{
 "cells": [
  {
   "cell_type": "code",
   "execution_count": null,
   "metadata": {},
   "outputs": [],
   "source": [
    "%pip install torch\n",
    "%pip install numpy\n",
    "%pip install transformers\n",
    "%pip install datasets\n",
    "%pip install tiktoken\n",
    "%pip install wandb\n",
    "%pip install tqdm"
   ]
  },
  {
   "cell_type": "code",
   "execution_count": null,
   "metadata": {},
   "outputs": [],
   "source": [
    "%%cmd\n",
    "python data/tbbt/preprocess.py"
   ]
  },
  {
   "cell_type": "code",
   "execution_count": null,
   "metadata": {},
   "outputs": [],
   "source": [
    "%%cmd\n",
    "# python data/tbbt/prepare.py --gen=0"
   ]
  },
  {
   "cell_type": "code",
   "execution_count": null,
   "metadata": {},
   "outputs": [],
   "source": [
    "%%cmd\n",
    "# python train.py config/train_tbbt.py --eval_iters=20 --device=cpu --compile=False --log_interval=10 --block_size=64 --batch_size=12 --n_layer=4 --n_head=4 --n_embd=128 --max_iters=2000 --lr_decay_iters=2000 --dropout=0.0"
   ]
  },
  {
   "cell_type": "code",
   "execution_count": null,
   "metadata": {},
   "outputs": [],
   "source": [
    "%%cmd\n",
    "# python sample.py --gen=1 --out_dir=tbb_out --device=cpu "
   ]
  },
  {
   "cell_type": "code",
   "execution_count": null,
   "metadata": {},
   "outputs": [],
   "source": [
    "import subprocess\n",
    "\n",
    "for i in range(3):  # Adjust the range as needed\n",
    "    gen_prepare = i\n",
    "    gen_sample = i + 1\n",
    "    \n",
    "    # Run prepare.py\n",
    "    subprocess.run([\"python\", \"data/tbbt/prepare.py\", f\"--gen={gen_prepare}\"])\n",
    "    \n",
    "    # Run train.py\n",
    "    subprocess.run([\n",
    "        \"python\", \"train.py\", \"config/train_tbbt.py\",\n",
    "        \"--eval_iters=20\", \"--device=cpu\", \"--compile=False\",\n",
    "        \"--log_interval=10\", \"--block_size=64\", \"--batch_size=12\",\n",
    "        \"--n_layer=4\", \"--n_head=4\", \"--n_embd=128\",\n",
    "        \"--max_iters=2000\", \"--lr_decay_iters=2000\",\n",
    "        \"--dropout=0.0\"\n",
    "    ])\n",
    "    \n",
    "    # Run sample.py\n",
    "    subprocess.run([\n",
    "        \"python\", \"sample.py\", f\"--gen={gen_sample}\",\n",
    "        \"--out_dir=tbb_out\", \"--device=cpu\"\n",
    "    ])\n"
   ]
  }
 ],
 "metadata": {
  "kernelspec": {
   "display_name": "Python 3",
   "language": "python",
   "name": "python3"
  },
  "language_info": {
   "codemirror_mode": {
    "name": "ipython",
    "version": 3
   },
   "file_extension": ".py",
   "mimetype": "text/x-python",
   "name": "python",
   "nbconvert_exporter": "python",
   "pygments_lexer": "ipython3",
   "version": "3.11.4"
  }
 },
 "nbformat": 4,
 "nbformat_minor": 2
}
